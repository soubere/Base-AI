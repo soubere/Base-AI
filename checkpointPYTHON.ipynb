{
 "cells": [
  {
   "cell_type": "code",
   "execution_count": 2,
   "id": "218a218b",
   "metadata": {},
   "outputs": [
    {
     "name": "stdout",
     "output_type": "stream",
     "text": [
      "[2002, 2009, 2016, 2023, 2037, 2044, 2051, 2058, 2072, 2079, 2086, 2093, 2107, 2114, 2121, 2128, 2142, 2149, 2156, 2163, 2177, 2184, 2191, 2198, 2212, 2219, 2226, 2233, 2247, 2254, 2261, 2268, 2282, 2289, 2296, 2303, 2317, 2324, 2331, 2338, 2352, 2359, 2366, 2373, 2387, 2394, 2401, 2408, 2422, 2429, 2436, 2443, 2457, 2464, 2471, 2478, 2492, 2499, 2506, 2513, 2527, 2534, 2541, 2548, 2562, 2569, 2576, 2583, 2597, 2604, 2611, 2618, 2632, 2639, 2646, 2653, 2667, 2674, 2681, 2688, 2702, 2709, 2716, 2723, 2737, 2744, 2751, 2758, 2772, 2779, 2786, 2793, 2807, 2814, 2821, 2828, 2842, 2849, 2856, 2863, 2877, 2884, 2891, 2898, 2912, 2919, 2926, 2933, 2947, 2954, 2961, 2968, 2982, 2989, 2996, 3003, 3017, 3024, 3031, 3038, 3052, 3059, 3066, 3073, 3087, 3094, 3101, 3108, 3122, 3129, 3136, 3143, 3157, 3164, 3171, 3178, 3192, 3199]\n"
     ]
    }
   ],
   "source": [
    "#EXO1\n",
    "#cette fonction permet dafficher les nombres divisibles par 7 mais non multiples de 5, entre 2000 et 3200 \n",
    "def divisionmultiple():\n",
    "    liste = []\n",
    "    for i in range(2000,3200):\n",
    "        if i% 7 == 0 and i%5 != 0:\n",
    "            liste.append(i)\n",
    "    print(liste)\n",
    "divisionmultiple()"
   ]
  },
  {
   "cell_type": "code",
   "execution_count": 3,
   "id": "678a9b79",
   "metadata": {},
   "outputs": [
    {
     "name": "stdout",
     "output_type": "stream",
     "text": [
      "donner un nombre :5\n",
      "le factoriel de : 5  est => 120\n"
     ]
    }
   ],
   "source": [
    "#EXO2\n",
    "#cette fonction permet de calculer le factoriel dun nombre donner\n",
    "def factorielofnumber():\n",
    "    factoriel =1\n",
    "    nombre = int(input(\"donner un nombre :\"))\n",
    "    for i in range(1,nombre+1):\n",
    "        factoriel = factoriel*i\n",
    "    print(\"le factoriel de :\",nombre, \" est =>\",factoriel)\n",
    "factorielofnumber()"
   ]
  },
  {
   "cell_type": "code",
   "execution_count": 4,
   "id": "8715e57d",
   "metadata": {},
   "outputs": [
    {
     "name": "stdout",
     "output_type": "stream",
     "text": [
      "Entrer un nombre :7\n",
      "{1: 1, 2: 4, 3: 9, 4: 16, 5: 25, 6: 36, 7: 49}\n"
     ]
    }
   ],
   "source": [
    "#EXO3\n",
    "#Cette fonction permet de Generer un dictionnaire a part dun nombre\n",
    "def generatedictionnary():\n",
    "    nombre = int(input(\"Entrer un nombre :\"))\n",
    "    diction = dict()\n",
    "    for i in range(1,nombre+1):\n",
    "        diction[i]=i*i\n",
    "    print(diction)\n",
    "generatedictionnary()    "
   ]
  },
  {
   "cell_type": "code",
   "execution_count": 5,
   "id": "a5c65653",
   "metadata": {},
   "outputs": [
    {
     "name": "stdout",
     "output_type": "stream",
     "text": [
      "donner l'index correspondant au caractere a supprimer :5\n",
      "l'element supprimer est : a\n",
      "la nouvelle chaine est : ma chine\n"
     ]
    }
   ],
   "source": [
    "#EXO4\n",
    "#cette fonction permet de verifier lindex entrer puis supprimer l'element correspondante \n",
    "def deleteindexofstring():\n",
    "    indextodelete=0\n",
    "    machlist= list(\"ma chaine\")\n",
    "    indextodelete = int(input(\"donner l'index correspondant au caractere a supprimer :\"))\n",
    "    if indextodelete >= 0  and indextodelete <= len(machlist)-1:\n",
    "       print(\"l'element supprimer est :\",machlist.pop(indextodelete))\n",
    "       print(\"la nouvelle chaine est :\",\"\".join(machlist))\n",
    "    else :\n",
    "        while indextodelete < 0  and indextodelete > len(machlist):\n",
    "            indextodelete=int(input(\"veuillez saisir de nouveaux :\")) \n",
    "deleteindexofstring()"
   ]
  },
  {
   "cell_type": "code",
   "execution_count": 6,
   "id": "6398c23a",
   "metadata": {},
   "outputs": [
    {
     "name": "stdout",
     "output_type": "stream",
     "text": [
      "[[0 1]\n",
      " [2 3]\n",
      " [4 5]]\n",
      "[[0, 1], [2, 3], [4, 5]]\n",
      "<class 'list'>\n"
     ]
    }
   ],
   "source": [
    "#EXO5\n",
    "import numpy as np\n",
    "#cette fonction permet de convertir un tabeau numpy en tableau simple\n",
    "def convertnumpylisttolist():\n",
    "    mytabnumpy = np.array([[0,1],[2,3],[4,5]])\n",
    "    print(mytabnumpy)\n",
    "    mylisteconv = np.array([[0,1],[2,3],[4,5]]).tolist()\n",
    "    print(mylisteconv)\n",
    "    print(type(mylisteconv))\n",
    "convertnumpylisttolist()"
   ]
  },
  {
   "cell_type": "code",
   "execution_count": 7,
   "id": "eb2c9a34",
   "metadata": {},
   "outputs": [
    {
     "name": "stdout",
     "output_type": "stream",
     "text": [
      "[[ 1. -1.]\n",
      " [-1.  1.]]\n"
     ]
    }
   ],
   "source": [
    "#EXO6\n",
    "#cette fonction permet de calcluler la covariance de ces deux tableaux\n",
    "def covarianceoftwolist():\n",
    "    Tab1 = np.array([0,1,2])\n",
    "    Tab2 = np.array([2,1,0])\n",
    "    cova2mat = np.cov(Tab1,Tab2)\n",
    "    print(cova2mat)\n",
    "covarianceoftwolist()"
   ]
  },
  {
   "cell_type": "code",
   "execution_count": 10,
   "id": "ceda7d41",
   "metadata": {},
   "outputs": [
    {
     "name": "stdout",
     "output_type": "stream",
     "text": [
      "saisir la sequence separer par virgule :\n",
      "18,26,24\n",
      "8,9,9\n"
     ]
    }
   ],
   "source": [
    "#EXO7\n",
    "import math\n",
    "c=50\n",
    "h=30\n",
    "valeurs = []\n",
    "def formulesequence():\n",
    "    print(\"saisir la sequence separer par virgule :\")\n",
    "    items=[i for i in input().split(',')]\n",
    "    for i in items:\n",
    "        valeurs.append(str(int(round(math.sqrt(2*c*float(i)/h)))))\n",
    "    print(','.join(valeurs))\n",
    "formulesequence()"
   ]
  },
  {
   "cell_type": "code",
   "execution_count": null,
   "id": "aa10efc4",
   "metadata": {},
   "outputs": [],
   "source": []
  }
 ],
 "metadata": {
  "kernelspec": {
   "display_name": "Python 3",
   "language": "python",
   "name": "python3"
  },
  "language_info": {
   "codemirror_mode": {
    "name": "ipython",
    "version": 3
   },
   "file_extension": ".py",
   "mimetype": "text/x-python",
   "name": "python",
   "nbconvert_exporter": "python",
   "pygments_lexer": "ipython3",
   "version": "3.8.8"
  }
 },
 "nbformat": 4,
 "nbformat_minor": 5
}
